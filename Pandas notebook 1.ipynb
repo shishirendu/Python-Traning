{
 "cells": [
  {
   "cell_type": "code",
   "execution_count": 1,
   "metadata": {},
   "outputs": [],
   "source": [
    "import pandas as pd\n",
    "import numpy as np "
   ]
  },
  {
   "cell_type": "markdown",
   "metadata": {},
   "source": [
    "# Series and Dataframes\n",
    "- Subsetting\n",
    "- Arithmetic, mapping\n",
    "- Missing Data\n",
    "- Sorting and Ranking\n",
    "- Heirarchical Indexing"
   ]
  },
  {
   "cell_type": "code",
   "execution_count": 2,
   "metadata": {},
   "outputs": [],
   "source": [
    "labels = ['a','b','c','d']"
   ]
  },
  {
   "cell_type": "code",
   "execution_count": 3,
   "metadata": {},
   "outputs": [],
   "source": [
    "list = [50,60,70,47]"
   ]
  },
  {
   "cell_type": "code",
   "execution_count": 6,
   "metadata": {},
   "outputs": [
    {
     "name": "stdout",
     "output_type": "stream",
     "text": [
      "[50 60 70 47]\n"
     ]
    }
   ],
   "source": [
    "array = np.array([50,60,70,47])\n",
    "print(array)"
   ]
  },
  {
   "cell_type": "code",
   "execution_count": 8,
   "metadata": {},
   "outputs": [
    {
     "data": {
      "text/plain": [
       "{'a': 50, 'b': 60, 'c': 70, 'd': 47}"
      ]
     },
     "execution_count": 8,
     "metadata": {},
     "output_type": "execute_result"
    }
   ],
   "source": [
    "dict = {'a':50, 'b':60, 'c':70, 'd':47}\n",
    "dict"
   ]
  },
  {
   "cell_type": "code",
   "execution_count": 9,
   "metadata": {},
   "outputs": [
    {
     "data": {
      "text/plain": [
       "0    50\n",
       "1    60\n",
       "2    70\n",
       "3    47\n",
       "dtype: int64"
      ]
     },
     "execution_count": 9,
     "metadata": {},
     "output_type": "execute_result"
    }
   ],
   "source": [
    "pd.Series(data=list)"
   ]
  },
  {
   "cell_type": "code",
   "execution_count": 10,
   "metadata": {},
   "outputs": [
    {
     "data": {
      "text/plain": [
       "a    50\n",
       "b    60\n",
       "c    70\n",
       "d    47\n",
       "dtype: int64"
      ]
     },
     "execution_count": 10,
     "metadata": {},
     "output_type": "execute_result"
    }
   ],
   "source": [
    "pd.Series(data=list, index=labels)"
   ]
  },
  {
   "cell_type": "code",
   "execution_count": 11,
   "metadata": {},
   "outputs": [
    {
     "data": {
      "text/plain": [
       "a    50\n",
       "b    60\n",
       "c    70\n",
       "d    47\n",
       "dtype: int64"
      ]
     },
     "execution_count": 11,
     "metadata": {},
     "output_type": "execute_result"
    }
   ],
   "source": [
    "pd.Series(list,labels)"
   ]
  },
  {
   "cell_type": "code",
   "execution_count": 12,
   "metadata": {},
   "outputs": [
    {
     "data": {
      "text/plain": [
       "0    50\n",
       "1    60\n",
       "2    70\n",
       "3    47\n",
       "dtype: int32"
      ]
     },
     "execution_count": 12,
     "metadata": {},
     "output_type": "execute_result"
    }
   ],
   "source": [
    "pd.Series(array)"
   ]
  },
  {
   "cell_type": "code",
   "execution_count": 14,
   "metadata": {},
   "outputs": [
    {
     "data": {
      "text/plain": [
       "a    50\n",
       "b    60\n",
       "c    70\n",
       "d    47\n",
       "dtype: int32"
      ]
     },
     "execution_count": 14,
     "metadata": {},
     "output_type": "execute_result"
    }
   ],
   "source": [
    "pd.Series(array,labels)"
   ]
  },
  {
   "cell_type": "code",
   "execution_count": 15,
   "metadata": {},
   "outputs": [
    {
     "data": {
      "text/plain": [
       "a    50\n",
       "b    60\n",
       "c    70\n",
       "d    47\n",
       "dtype: int64"
      ]
     },
     "execution_count": 15,
     "metadata": {},
     "output_type": "execute_result"
    }
   ],
   "source": [
    "pd.Series(dict)"
   ]
  },
  {
   "cell_type": "markdown",
   "metadata": {},
   "source": [
    "# DataFrames and Indexing"
   ]
  },
  {
   "cell_type": "code",
   "execution_count": 17,
   "metadata": {},
   "outputs": [],
   "source": [
    "club1 = pd.Series([11,12,16,4],index = ['TaeKwondo', 'Karate','Kungfu', 'jujitsu'])  "
   ]
  },
  {
   "cell_type": "code",
   "execution_count": 18,
   "metadata": {},
   "outputs": [
    {
     "data": {
      "text/plain": [
       "TaeKwondo    11\n",
       "Karate       12\n",
       "Kungfu       16\n",
       "jujitsu       4\n",
       "dtype: int64"
      ]
     },
     "execution_count": 18,
     "metadata": {},
     "output_type": "execute_result"
    }
   ],
   "source": [
    "club1"
   ]
  },
  {
   "cell_type": "code",
   "execution_count": 19,
   "metadata": {},
   "outputs": [
    {
     "data": {
      "text/plain": [
       "11"
      ]
     },
     "execution_count": 19,
     "metadata": {},
     "output_type": "execute_result"
    }
   ],
   "source": [
    "club1['TaeKwondo']"
   ]
  },
  {
   "cell_type": "code",
   "execution_count": 20,
   "metadata": {},
   "outputs": [
    {
     "data": {
      "text/plain": [
       "11"
      ]
     },
     "execution_count": 20,
     "metadata": {},
     "output_type": "execute_result"
    }
   ],
   "source": [
    "club1[0]"
   ]
  },
  {
   "cell_type": "code",
   "execution_count": 22,
   "metadata": {},
   "outputs": [
    {
     "data": {
      "text/plain": [
       "TaeKwondo    1\n",
       "Karate       2\n",
       "Judo         5\n",
       "jujitsu      4\n",
       "dtype: int64"
      ]
     },
     "execution_count": 22,
     "metadata": {},
     "output_type": "execute_result"
    }
   ],
   "source": [
    "club2 = pd.Series([1,2,5,4],index = ['TaeKwondo', 'Karate', 'Judo', 'jujitsu'])  \n",
    "club2"
   ]
  },
  {
   "cell_type": "code",
   "execution_count": 23,
   "metadata": {},
   "outputs": [
    {
     "data": {
      "text/plain": [
       "Judo          NaN\n",
       "Karate       14.0\n",
       "Kungfu        NaN\n",
       "TaeKwondo    12.0\n",
       "jujitsu       8.0\n",
       "dtype: float64"
      ]
     },
     "execution_count": 23,
     "metadata": {},
     "output_type": "execute_result"
    }
   ],
   "source": [
    "club1 + club2"
   ]
  },
  {
   "cell_type": "code",
   "execution_count": 24,
   "metadata": {},
   "outputs": [],
   "source": [
    "from numpy.random import randn"
   ]
  },
  {
   "cell_type": "code",
   "execution_count": 25,
   "metadata": {},
   "outputs": [],
   "source": [
    "df = pd.DataFrame(randn(10,5),index='x1 x2 x3 x4 x5 x6 x7 x8 x9 x10'.split(),\n",
    "                         columns='points1 points2 points3 points4 points5'.split())"
   ]
  },
  {
   "cell_type": "code",
   "execution_count": 26,
   "metadata": {},
   "outputs": [
    {
     "data": {
      "text/html": [
       "<div>\n",
       "<style scoped>\n",
       "    .dataframe tbody tr th:only-of-type {\n",
       "        vertical-align: middle;\n",
       "    }\n",
       "\n",
       "    .dataframe tbody tr th {\n",
       "        vertical-align: top;\n",
       "    }\n",
       "\n",
       "    .dataframe thead th {\n",
       "        text-align: right;\n",
       "    }\n",
       "</style>\n",
       "<table border=\"1\" class=\"dataframe\">\n",
       "  <thead>\n",
       "    <tr style=\"text-align: right;\">\n",
       "      <th></th>\n",
       "      <th>points1</th>\n",
       "      <th>points2</th>\n",
       "      <th>points3</th>\n",
       "      <th>points4</th>\n",
       "      <th>points5</th>\n",
       "    </tr>\n",
       "  </thead>\n",
       "  <tbody>\n",
       "    <tr>\n",
       "      <th>x1</th>\n",
       "      <td>-0.305457</td>\n",
       "      <td>-1.262025</td>\n",
       "      <td>-0.386200</td>\n",
       "      <td>0.393911</td>\n",
       "      <td>-1.130036</td>\n",
       "    </tr>\n",
       "    <tr>\n",
       "      <th>x2</th>\n",
       "      <td>0.008069</td>\n",
       "      <td>-1.431712</td>\n",
       "      <td>0.450144</td>\n",
       "      <td>-0.819828</td>\n",
       "      <td>0.450915</td>\n",
       "    </tr>\n",
       "    <tr>\n",
       "      <th>x3</th>\n",
       "      <td>-1.983810</td>\n",
       "      <td>-1.106970</td>\n",
       "      <td>1.132953</td>\n",
       "      <td>0.317977</td>\n",
       "      <td>0.496579</td>\n",
       "    </tr>\n",
       "    <tr>\n",
       "      <th>x4</th>\n",
       "      <td>1.208876</td>\n",
       "      <td>0.198858</td>\n",
       "      <td>-0.198328</td>\n",
       "      <td>0.476241</td>\n",
       "      <td>0.303265</td>\n",
       "    </tr>\n",
       "    <tr>\n",
       "      <th>x5</th>\n",
       "      <td>-2.097059</td>\n",
       "      <td>1.130494</td>\n",
       "      <td>0.270889</td>\n",
       "      <td>2.410209</td>\n",
       "      <td>-0.918399</td>\n",
       "    </tr>\n",
       "    <tr>\n",
       "      <th>x6</th>\n",
       "      <td>1.372714</td>\n",
       "      <td>-1.118173</td>\n",
       "      <td>0.528556</td>\n",
       "      <td>-0.116042</td>\n",
       "      <td>0.187865</td>\n",
       "    </tr>\n",
       "    <tr>\n",
       "      <th>x7</th>\n",
       "      <td>0.435378</td>\n",
       "      <td>-0.781918</td>\n",
       "      <td>-1.257110</td>\n",
       "      <td>-0.691294</td>\n",
       "      <td>-0.969927</td>\n",
       "    </tr>\n",
       "    <tr>\n",
       "      <th>x8</th>\n",
       "      <td>-0.320544</td>\n",
       "      <td>0.250852</td>\n",
       "      <td>0.603797</td>\n",
       "      <td>-1.049329</td>\n",
       "      <td>-0.942046</td>\n",
       "    </tr>\n",
       "    <tr>\n",
       "      <th>x9</th>\n",
       "      <td>1.768448</td>\n",
       "      <td>0.247238</td>\n",
       "      <td>-0.513339</td>\n",
       "      <td>0.352558</td>\n",
       "      <td>-0.779641</td>\n",
       "    </tr>\n",
       "    <tr>\n",
       "      <th>x10</th>\n",
       "      <td>-0.287796</td>\n",
       "      <td>1.396154</td>\n",
       "      <td>1.136272</td>\n",
       "      <td>0.100300</td>\n",
       "      <td>-0.348978</td>\n",
       "    </tr>\n",
       "  </tbody>\n",
       "</table>\n",
       "</div>"
      ],
      "text/plain": [
       "      points1   points2   points3   points4   points5\n",
       "x1  -0.305457 -1.262025 -0.386200  0.393911 -1.130036\n",
       "x2   0.008069 -1.431712  0.450144 -0.819828  0.450915\n",
       "x3  -1.983810 -1.106970  1.132953  0.317977  0.496579\n",
       "x4   1.208876  0.198858 -0.198328  0.476241  0.303265\n",
       "x5  -2.097059  1.130494  0.270889  2.410209 -0.918399\n",
       "x6   1.372714 -1.118173  0.528556 -0.116042  0.187865\n",
       "x7   0.435378 -0.781918 -1.257110 -0.691294 -0.969927\n",
       "x8  -0.320544  0.250852  0.603797 -1.049329 -0.942046\n",
       "x9   1.768448  0.247238 -0.513339  0.352558 -0.779641\n",
       "x10 -0.287796  1.396154  1.136272  0.100300 -0.348978"
      ]
     },
     "execution_count": 26,
     "metadata": {},
     "output_type": "execute_result"
    }
   ],
   "source": [
    "df"
   ]
  },
  {
   "cell_type": "code",
   "execution_count": 27,
   "metadata": {},
   "outputs": [
    {
     "data": {
      "text/plain": [
       "x1    -0.386200\n",
       "x2     0.450144\n",
       "x3     1.132953\n",
       "x4    -0.198328\n",
       "x5     0.270889\n",
       "x6     0.528556\n",
       "x7    -1.257110\n",
       "x8     0.603797\n",
       "x9    -0.513339\n",
       "x10    1.136272\n",
       "Name: points3, dtype: float64"
      ]
     },
     "execution_count": 27,
     "metadata": {},
     "output_type": "execute_result"
    }
   ],
   "source": [
    "df['points3']"
   ]
  },
  {
   "cell_type": "code",
   "execution_count": 28,
   "metadata": {},
   "outputs": [
    {
     "data": {
      "text/html": [
       "<div>\n",
       "<style scoped>\n",
       "    .dataframe tbody tr th:only-of-type {\n",
       "        vertical-align: middle;\n",
       "    }\n",
       "\n",
       "    .dataframe tbody tr th {\n",
       "        vertical-align: top;\n",
       "    }\n",
       "\n",
       "    .dataframe thead th {\n",
       "        text-align: right;\n",
       "    }\n",
       "</style>\n",
       "<table border=\"1\" class=\"dataframe\">\n",
       "  <thead>\n",
       "    <tr style=\"text-align: right;\">\n",
       "      <th></th>\n",
       "      <th>points2</th>\n",
       "      <th>points3</th>\n",
       "    </tr>\n",
       "  </thead>\n",
       "  <tbody>\n",
       "    <tr>\n",
       "      <th>x1</th>\n",
       "      <td>-1.262025</td>\n",
       "      <td>-0.386200</td>\n",
       "    </tr>\n",
       "    <tr>\n",
       "      <th>x2</th>\n",
       "      <td>-1.431712</td>\n",
       "      <td>0.450144</td>\n",
       "    </tr>\n",
       "    <tr>\n",
       "      <th>x3</th>\n",
       "      <td>-1.106970</td>\n",
       "      <td>1.132953</td>\n",
       "    </tr>\n",
       "    <tr>\n",
       "      <th>x4</th>\n",
       "      <td>0.198858</td>\n",
       "      <td>-0.198328</td>\n",
       "    </tr>\n",
       "    <tr>\n",
       "      <th>x5</th>\n",
       "      <td>1.130494</td>\n",
       "      <td>0.270889</td>\n",
       "    </tr>\n",
       "    <tr>\n",
       "      <th>x6</th>\n",
       "      <td>-1.118173</td>\n",
       "      <td>0.528556</td>\n",
       "    </tr>\n",
       "    <tr>\n",
       "      <th>x7</th>\n",
       "      <td>-0.781918</td>\n",
       "      <td>-1.257110</td>\n",
       "    </tr>\n",
       "    <tr>\n",
       "      <th>x8</th>\n",
       "      <td>0.250852</td>\n",
       "      <td>0.603797</td>\n",
       "    </tr>\n",
       "    <tr>\n",
       "      <th>x9</th>\n",
       "      <td>0.247238</td>\n",
       "      <td>-0.513339</td>\n",
       "    </tr>\n",
       "    <tr>\n",
       "      <th>x10</th>\n",
       "      <td>1.396154</td>\n",
       "      <td>1.136272</td>\n",
       "    </tr>\n",
       "  </tbody>\n",
       "</table>\n",
       "</div>"
      ],
      "text/plain": [
       "      points2   points3\n",
       "x1  -1.262025 -0.386200\n",
       "x2  -1.431712  0.450144\n",
       "x3  -1.106970  1.132953\n",
       "x4   0.198858 -0.198328\n",
       "x5   1.130494  0.270889\n",
       "x6  -1.118173  0.528556\n",
       "x7  -0.781918 -1.257110\n",
       "x8   0.250852  0.603797\n",
       "x9   0.247238 -0.513339\n",
       "x10  1.396154  1.136272"
      ]
     },
     "execution_count": 28,
     "metadata": {},
     "output_type": "execute_result"
    }
   ],
   "source": [
    "df[['points2', 'points3']]"
   ]
  },
  {
   "cell_type": "code",
   "execution_count": 34,
   "metadata": {},
   "outputs": [],
   "source": [
    "df['points6'] = df['points1'] + df['points2']"
   ]
  },
  {
   "cell_type": "code",
   "execution_count": 30,
   "metadata": {},
   "outputs": [
    {
     "data": {
      "text/html": [
       "<div>\n",
       "<style scoped>\n",
       "    .dataframe tbody tr th:only-of-type {\n",
       "        vertical-align: middle;\n",
       "    }\n",
       "\n",
       "    .dataframe tbody tr th {\n",
       "        vertical-align: top;\n",
       "    }\n",
       "\n",
       "    .dataframe thead th {\n",
       "        text-align: right;\n",
       "    }\n",
       "</style>\n",
       "<table border=\"1\" class=\"dataframe\">\n",
       "  <thead>\n",
       "    <tr style=\"text-align: right;\">\n",
       "      <th></th>\n",
       "      <th>points1</th>\n",
       "      <th>points2</th>\n",
       "      <th>points3</th>\n",
       "      <th>points4</th>\n",
       "      <th>points5</th>\n",
       "      <th>points6</th>\n",
       "    </tr>\n",
       "  </thead>\n",
       "  <tbody>\n",
       "    <tr>\n",
       "      <th>x1</th>\n",
       "      <td>-0.305457</td>\n",
       "      <td>-1.262025</td>\n",
       "      <td>-0.386200</td>\n",
       "      <td>0.393911</td>\n",
       "      <td>-1.130036</td>\n",
       "      <td>-1.567482</td>\n",
       "    </tr>\n",
       "    <tr>\n",
       "      <th>x2</th>\n",
       "      <td>0.008069</td>\n",
       "      <td>-1.431712</td>\n",
       "      <td>0.450144</td>\n",
       "      <td>-0.819828</td>\n",
       "      <td>0.450915</td>\n",
       "      <td>-1.423643</td>\n",
       "    </tr>\n",
       "    <tr>\n",
       "      <th>x3</th>\n",
       "      <td>-1.983810</td>\n",
       "      <td>-1.106970</td>\n",
       "      <td>1.132953</td>\n",
       "      <td>0.317977</td>\n",
       "      <td>0.496579</td>\n",
       "      <td>-3.090779</td>\n",
       "    </tr>\n",
       "    <tr>\n",
       "      <th>x4</th>\n",
       "      <td>1.208876</td>\n",
       "      <td>0.198858</td>\n",
       "      <td>-0.198328</td>\n",
       "      <td>0.476241</td>\n",
       "      <td>0.303265</td>\n",
       "      <td>1.407733</td>\n",
       "    </tr>\n",
       "    <tr>\n",
       "      <th>x5</th>\n",
       "      <td>-2.097059</td>\n",
       "      <td>1.130494</td>\n",
       "      <td>0.270889</td>\n",
       "      <td>2.410209</td>\n",
       "      <td>-0.918399</td>\n",
       "      <td>-0.966565</td>\n",
       "    </tr>\n",
       "    <tr>\n",
       "      <th>x6</th>\n",
       "      <td>1.372714</td>\n",
       "      <td>-1.118173</td>\n",
       "      <td>0.528556</td>\n",
       "      <td>-0.116042</td>\n",
       "      <td>0.187865</td>\n",
       "      <td>0.254541</td>\n",
       "    </tr>\n",
       "    <tr>\n",
       "      <th>x7</th>\n",
       "      <td>0.435378</td>\n",
       "      <td>-0.781918</td>\n",
       "      <td>-1.257110</td>\n",
       "      <td>-0.691294</td>\n",
       "      <td>-0.969927</td>\n",
       "      <td>-0.346539</td>\n",
       "    </tr>\n",
       "    <tr>\n",
       "      <th>x8</th>\n",
       "      <td>-0.320544</td>\n",
       "      <td>0.250852</td>\n",
       "      <td>0.603797</td>\n",
       "      <td>-1.049329</td>\n",
       "      <td>-0.942046</td>\n",
       "      <td>-0.069692</td>\n",
       "    </tr>\n",
       "    <tr>\n",
       "      <th>x9</th>\n",
       "      <td>1.768448</td>\n",
       "      <td>0.247238</td>\n",
       "      <td>-0.513339</td>\n",
       "      <td>0.352558</td>\n",
       "      <td>-0.779641</td>\n",
       "      <td>2.015686</td>\n",
       "    </tr>\n",
       "    <tr>\n",
       "      <th>x10</th>\n",
       "      <td>-0.287796</td>\n",
       "      <td>1.396154</td>\n",
       "      <td>1.136272</td>\n",
       "      <td>0.100300</td>\n",
       "      <td>-0.348978</td>\n",
       "      <td>1.108358</td>\n",
       "    </tr>\n",
       "  </tbody>\n",
       "</table>\n",
       "</div>"
      ],
      "text/plain": [
       "      points1   points2   points3   points4   points5   points6\n",
       "x1  -0.305457 -1.262025 -0.386200  0.393911 -1.130036 -1.567482\n",
       "x2   0.008069 -1.431712  0.450144 -0.819828  0.450915 -1.423643\n",
       "x3  -1.983810 -1.106970  1.132953  0.317977  0.496579 -3.090779\n",
       "x4   1.208876  0.198858 -0.198328  0.476241  0.303265  1.407733\n",
       "x5  -2.097059  1.130494  0.270889  2.410209 -0.918399 -0.966565\n",
       "x6   1.372714 -1.118173  0.528556 -0.116042  0.187865  0.254541\n",
       "x7   0.435378 -0.781918 -1.257110 -0.691294 -0.969927 -0.346539\n",
       "x8  -0.320544  0.250852  0.603797 -1.049329 -0.942046 -0.069692\n",
       "x9   1.768448  0.247238 -0.513339  0.352558 -0.779641  2.015686\n",
       "x10 -0.287796  1.396154  1.136272  0.100300 -0.348978  1.108358"
      ]
     },
     "execution_count": 30,
     "metadata": {},
     "output_type": "execute_result"
    }
   ],
   "source": [
    "df"
   ]
  },
  {
   "cell_type": "code",
   "execution_count": 36,
   "metadata": {},
   "outputs": [
    {
     "data": {
      "text/html": [
       "<div>\n",
       "<style scoped>\n",
       "    .dataframe tbody tr th:only-of-type {\n",
       "        vertical-align: middle;\n",
       "    }\n",
       "\n",
       "    .dataframe tbody tr th {\n",
       "        vertical-align: top;\n",
       "    }\n",
       "\n",
       "    .dataframe thead th {\n",
       "        text-align: right;\n",
       "    }\n",
       "</style>\n",
       "<table border=\"1\" class=\"dataframe\">\n",
       "  <thead>\n",
       "    <tr style=\"text-align: right;\">\n",
       "      <th></th>\n",
       "      <th>points1</th>\n",
       "      <th>points2</th>\n",
       "      <th>points3</th>\n",
       "      <th>points6</th>\n",
       "    </tr>\n",
       "  </thead>\n",
       "  <tbody>\n",
       "    <tr>\n",
       "      <th>x1</th>\n",
       "      <td>-0.305457</td>\n",
       "      <td>-1.262025</td>\n",
       "      <td>-0.386200</td>\n",
       "      <td>-1.567482</td>\n",
       "    </tr>\n",
       "    <tr>\n",
       "      <th>x2</th>\n",
       "      <td>0.008069</td>\n",
       "      <td>-1.431712</td>\n",
       "      <td>0.450144</td>\n",
       "      <td>-1.423643</td>\n",
       "    </tr>\n",
       "    <tr>\n",
       "      <th>x3</th>\n",
       "      <td>-1.983810</td>\n",
       "      <td>-1.106970</td>\n",
       "      <td>1.132953</td>\n",
       "      <td>-3.090779</td>\n",
       "    </tr>\n",
       "    <tr>\n",
       "      <th>x4</th>\n",
       "      <td>1.208876</td>\n",
       "      <td>0.198858</td>\n",
       "      <td>-0.198328</td>\n",
       "      <td>1.407733</td>\n",
       "    </tr>\n",
       "    <tr>\n",
       "      <th>x5</th>\n",
       "      <td>-2.097059</td>\n",
       "      <td>1.130494</td>\n",
       "      <td>0.270889</td>\n",
       "      <td>-0.966565</td>\n",
       "    </tr>\n",
       "    <tr>\n",
       "      <th>x6</th>\n",
       "      <td>1.372714</td>\n",
       "      <td>-1.118173</td>\n",
       "      <td>0.528556</td>\n",
       "      <td>0.254541</td>\n",
       "    </tr>\n",
       "    <tr>\n",
       "      <th>x7</th>\n",
       "      <td>0.435378</td>\n",
       "      <td>-0.781918</td>\n",
       "      <td>-1.257110</td>\n",
       "      <td>-0.346539</td>\n",
       "    </tr>\n",
       "    <tr>\n",
       "      <th>x8</th>\n",
       "      <td>-0.320544</td>\n",
       "      <td>0.250852</td>\n",
       "      <td>0.603797</td>\n",
       "      <td>-0.069692</td>\n",
       "    </tr>\n",
       "    <tr>\n",
       "      <th>x9</th>\n",
       "      <td>1.768448</td>\n",
       "      <td>0.247238</td>\n",
       "      <td>-0.513339</td>\n",
       "      <td>2.015686</td>\n",
       "    </tr>\n",
       "    <tr>\n",
       "      <th>x10</th>\n",
       "      <td>-0.287796</td>\n",
       "      <td>1.396154</td>\n",
       "      <td>1.136272</td>\n",
       "      <td>1.108358</td>\n",
       "    </tr>\n",
       "  </tbody>\n",
       "</table>\n",
       "</div>"
      ],
      "text/plain": [
       "      points1   points2   points3   points6\n",
       "x1  -0.305457 -1.262025 -0.386200 -1.567482\n",
       "x2   0.008069 -1.431712  0.450144 -1.423643\n",
       "x3  -1.983810 -1.106970  1.132953 -3.090779\n",
       "x4   1.208876  0.198858 -0.198328  1.407733\n",
       "x5  -2.097059  1.130494  0.270889 -0.966565\n",
       "x6   1.372714 -1.118173  0.528556  0.254541\n",
       "x7   0.435378 -0.781918 -1.257110 -0.346539\n",
       "x8  -0.320544  0.250852  0.603797 -0.069692\n",
       "x9   1.768448  0.247238 -0.513339  2.015686\n",
       "x10 -0.287796  1.396154  1.136272  1.108358"
      ]
     },
     "execution_count": 36,
     "metadata": {},
     "output_type": "execute_result"
    }
   ],
   "source": [
    "df.drop('points4',axis=1, inplace=True) \n",
    "df"
   ]
  },
  {
   "cell_type": "code",
   "execution_count": 38,
   "metadata": {},
   "outputs": [
    {
     "data": {
      "text/html": [
       "<div>\n",
       "<style scoped>\n",
       "    .dataframe tbody tr th:only-of-type {\n",
       "        vertical-align: middle;\n",
       "    }\n",
       "\n",
       "    .dataframe tbody tr th {\n",
       "        vertical-align: top;\n",
       "    }\n",
       "\n",
       "    .dataframe thead th {\n",
       "        text-align: right;\n",
       "    }\n",
       "</style>\n",
       "<table border=\"1\" class=\"dataframe\">\n",
       "  <thead>\n",
       "    <tr style=\"text-align: right;\">\n",
       "      <th></th>\n",
       "      <th>points1</th>\n",
       "      <th>points2</th>\n",
       "      <th>points3</th>\n",
       "      <th>points6</th>\n",
       "    </tr>\n",
       "  </thead>\n",
       "  <tbody>\n",
       "    <tr>\n",
       "      <th>x1</th>\n",
       "      <td>-0.305457</td>\n",
       "      <td>-1.262025</td>\n",
       "      <td>-0.386200</td>\n",
       "      <td>-1.567482</td>\n",
       "    </tr>\n",
       "    <tr>\n",
       "      <th>x2</th>\n",
       "      <td>0.008069</td>\n",
       "      <td>-1.431712</td>\n",
       "      <td>0.450144</td>\n",
       "      <td>-1.423643</td>\n",
       "    </tr>\n",
       "    <tr>\n",
       "      <th>x3</th>\n",
       "      <td>-1.983810</td>\n",
       "      <td>-1.106970</td>\n",
       "      <td>1.132953</td>\n",
       "      <td>-3.090779</td>\n",
       "    </tr>\n",
       "    <tr>\n",
       "      <th>x4</th>\n",
       "      <td>1.208876</td>\n",
       "      <td>0.198858</td>\n",
       "      <td>-0.198328</td>\n",
       "      <td>1.407733</td>\n",
       "    </tr>\n",
       "    <tr>\n",
       "      <th>x5</th>\n",
       "      <td>-2.097059</td>\n",
       "      <td>1.130494</td>\n",
       "      <td>0.270889</td>\n",
       "      <td>-0.966565</td>\n",
       "    </tr>\n",
       "    <tr>\n",
       "      <th>x6</th>\n",
       "      <td>1.372714</td>\n",
       "      <td>-1.118173</td>\n",
       "      <td>0.528556</td>\n",
       "      <td>0.254541</td>\n",
       "    </tr>\n",
       "    <tr>\n",
       "      <th>x7</th>\n",
       "      <td>0.435378</td>\n",
       "      <td>-0.781918</td>\n",
       "      <td>-1.257110</td>\n",
       "      <td>-0.346539</td>\n",
       "    </tr>\n",
       "    <tr>\n",
       "      <th>x9</th>\n",
       "      <td>1.768448</td>\n",
       "      <td>0.247238</td>\n",
       "      <td>-0.513339</td>\n",
       "      <td>2.015686</td>\n",
       "    </tr>\n",
       "    <tr>\n",
       "      <th>x10</th>\n",
       "      <td>-0.287796</td>\n",
       "      <td>1.396154</td>\n",
       "      <td>1.136272</td>\n",
       "      <td>1.108358</td>\n",
       "    </tr>\n",
       "  </tbody>\n",
       "</table>\n",
       "</div>"
      ],
      "text/plain": [
       "      points1   points2   points3   points6\n",
       "x1  -0.305457 -1.262025 -0.386200 -1.567482\n",
       "x2   0.008069 -1.431712  0.450144 -1.423643\n",
       "x3  -1.983810 -1.106970  1.132953 -3.090779\n",
       "x4   1.208876  0.198858 -0.198328  1.407733\n",
       "x5  -2.097059  1.130494  0.270889 -0.966565\n",
       "x6   1.372714 -1.118173  0.528556  0.254541\n",
       "x7   0.435378 -0.781918 -1.257110 -0.346539\n",
       "x9   1.768448  0.247238 -0.513339  2.015686\n",
       "x10 -0.287796  1.396154  1.136272  1.108358"
      ]
     },
     "execution_count": 38,
     "metadata": {},
     "output_type": "execute_result"
    }
   ],
   "source": [
    "df.drop('x8',axis=0)"
   ]
  },
  {
   "cell_type": "code",
   "execution_count": 39,
   "metadata": {},
   "outputs": [
    {
     "data": {
      "text/plain": [
       "points1    1.208876\n",
       "points2    0.198858\n",
       "points3   -0.198328\n",
       "points6    1.407733\n",
       "Name: x4, dtype: float64"
      ]
     },
     "execution_count": 39,
     "metadata": {},
     "output_type": "execute_result"
    }
   ],
   "source": [
    "df.loc['x4']"
   ]
  },
  {
   "cell_type": "code",
   "execution_count": 40,
   "metadata": {},
   "outputs": [
    {
     "data": {
      "text/plain": [
       "points1   -1.983810\n",
       "points2   -1.106970\n",
       "points3    1.132953\n",
       "points6   -3.090779\n",
       "Name: x3, dtype: float64"
      ]
     },
     "execution_count": 40,
     "metadata": {},
     "output_type": "execute_result"
    }
   ],
   "source": [
    "df.iloc[2]"
   ]
  },
  {
   "cell_type": "code",
   "execution_count": 41,
   "metadata": {},
   "outputs": [
    {
     "data": {
      "text/plain": [
       "-1.9838096156916"
      ]
     },
     "execution_count": 41,
     "metadata": {},
     "output_type": "execute_result"
    }
   ],
   "source": [
    "df.loc['x3','points1']"
   ]
  },
  {
   "cell_type": "code",
   "execution_count": 42,
   "metadata": {},
   "outputs": [
    {
     "data": {
      "text/html": [
       "<div>\n",
       "<style scoped>\n",
       "    .dataframe tbody tr th:only-of-type {\n",
       "        vertical-align: middle;\n",
       "    }\n",
       "\n",
       "    .dataframe tbody tr th {\n",
       "        vertical-align: top;\n",
       "    }\n",
       "\n",
       "    .dataframe thead th {\n",
       "        text-align: right;\n",
       "    }\n",
       "</style>\n",
       "<table border=\"1\" class=\"dataframe\">\n",
       "  <thead>\n",
       "    <tr style=\"text-align: right;\">\n",
       "      <th></th>\n",
       "      <th>points1</th>\n",
       "      <th>points2</th>\n",
       "    </tr>\n",
       "  </thead>\n",
       "  <tbody>\n",
       "    <tr>\n",
       "      <th>x2</th>\n",
       "      <td>0.008069</td>\n",
       "      <td>-1.431712</td>\n",
       "    </tr>\n",
       "    <tr>\n",
       "      <th>x3</th>\n",
       "      <td>-1.983810</td>\n",
       "      <td>-1.106970</td>\n",
       "    </tr>\n",
       "  </tbody>\n",
       "</table>\n",
       "</div>"
      ],
      "text/plain": [
       "     points1   points2\n",
       "x2  0.008069 -1.431712\n",
       "x3 -1.983810 -1.106970"
      ]
     },
     "execution_count": 42,
     "metadata": {},
     "output_type": "execute_result"
    }
   ],
   "source": [
    "df.loc[['x2','x3'],['points1','points2']]"
   ]
  },
  {
   "cell_type": "markdown",
   "metadata": {},
   "source": [
    "### Conditional Selection\n",
    "\n",
    " Similar to NumPy, we can make conditional selections using Brackets"
   ]
  },
  {
   "cell_type": "code",
   "execution_count": 47,
   "metadata": {},
   "outputs": [
    {
     "data": {
      "text/html": [
       "<div>\n",
       "<style scoped>\n",
       "    .dataframe tbody tr th:only-of-type {\n",
       "        vertical-align: middle;\n",
       "    }\n",
       "\n",
       "    .dataframe tbody tr th {\n",
       "        vertical-align: top;\n",
       "    }\n",
       "\n",
       "    .dataframe thead th {\n",
       "        text-align: right;\n",
       "    }\n",
       "</style>\n",
       "<table border=\"1\" class=\"dataframe\">\n",
       "  <thead>\n",
       "    <tr style=\"text-align: right;\">\n",
       "      <th></th>\n",
       "      <th>points1</th>\n",
       "      <th>points2</th>\n",
       "      <th>points3</th>\n",
       "      <th>points6</th>\n",
       "    </tr>\n",
       "  </thead>\n",
       "  <tbody>\n",
       "    <tr>\n",
       "      <th>x1</th>\n",
       "      <td>False</td>\n",
       "      <td>False</td>\n",
       "      <td>False</td>\n",
       "      <td>False</td>\n",
       "    </tr>\n",
       "    <tr>\n",
       "      <th>x2</th>\n",
       "      <td>False</td>\n",
       "      <td>False</td>\n",
       "      <td>False</td>\n",
       "      <td>False</td>\n",
       "    </tr>\n",
       "    <tr>\n",
       "      <th>x3</th>\n",
       "      <td>False</td>\n",
       "      <td>False</td>\n",
       "      <td>True</td>\n",
       "      <td>False</td>\n",
       "    </tr>\n",
       "    <tr>\n",
       "      <th>x4</th>\n",
       "      <td>True</td>\n",
       "      <td>False</td>\n",
       "      <td>False</td>\n",
       "      <td>True</td>\n",
       "    </tr>\n",
       "    <tr>\n",
       "      <th>x5</th>\n",
       "      <td>False</td>\n",
       "      <td>True</td>\n",
       "      <td>False</td>\n",
       "      <td>False</td>\n",
       "    </tr>\n",
       "    <tr>\n",
       "      <th>x6</th>\n",
       "      <td>True</td>\n",
       "      <td>False</td>\n",
       "      <td>True</td>\n",
       "      <td>False</td>\n",
       "    </tr>\n",
       "    <tr>\n",
       "      <th>x7</th>\n",
       "      <td>False</td>\n",
       "      <td>False</td>\n",
       "      <td>False</td>\n",
       "      <td>False</td>\n",
       "    </tr>\n",
       "    <tr>\n",
       "      <th>x8</th>\n",
       "      <td>False</td>\n",
       "      <td>False</td>\n",
       "      <td>True</td>\n",
       "      <td>False</td>\n",
       "    </tr>\n",
       "    <tr>\n",
       "      <th>x9</th>\n",
       "      <td>True</td>\n",
       "      <td>False</td>\n",
       "      <td>False</td>\n",
       "      <td>True</td>\n",
       "    </tr>\n",
       "    <tr>\n",
       "      <th>x10</th>\n",
       "      <td>False</td>\n",
       "      <td>True</td>\n",
       "      <td>True</td>\n",
       "      <td>True</td>\n",
       "    </tr>\n",
       "  </tbody>\n",
       "</table>\n",
       "</div>"
      ],
      "text/plain": [
       "     points1  points2  points3  points6\n",
       "x1     False    False    False    False\n",
       "x2     False    False    False    False\n",
       "x3     False    False     True    False\n",
       "x4      True    False    False     True\n",
       "x5     False     True    False    False\n",
       "x6      True    False     True    False\n",
       "x7     False    False    False    False\n",
       "x8     False    False     True    False\n",
       "x9      True    False    False     True\n",
       "x10    False     True     True     True"
      ]
     },
     "execution_count": 47,
     "metadata": {},
     "output_type": "execute_result"
    }
   ],
   "source": [
    "df>0.5"
   ]
  },
  {
   "cell_type": "code",
   "execution_count": 49,
   "metadata": {},
   "outputs": [
    {
     "data": {
      "text/html": [
       "<div>\n",
       "<style scoped>\n",
       "    .dataframe tbody tr th:only-of-type {\n",
       "        vertical-align: middle;\n",
       "    }\n",
       "\n",
       "    .dataframe tbody tr th {\n",
       "        vertical-align: top;\n",
       "    }\n",
       "\n",
       "    .dataframe thead th {\n",
       "        text-align: right;\n",
       "    }\n",
       "</style>\n",
       "<table border=\"1\" class=\"dataframe\">\n",
       "  <thead>\n",
       "    <tr style=\"text-align: right;\">\n",
       "      <th></th>\n",
       "      <th>points1</th>\n",
       "      <th>points2</th>\n",
       "      <th>points3</th>\n",
       "      <th>points6</th>\n",
       "    </tr>\n",
       "  </thead>\n",
       "  <tbody>\n",
       "    <tr>\n",
       "      <th>x1</th>\n",
       "      <td>NaN</td>\n",
       "      <td>NaN</td>\n",
       "      <td>NaN</td>\n",
       "      <td>NaN</td>\n",
       "    </tr>\n",
       "    <tr>\n",
       "      <th>x2</th>\n",
       "      <td>NaN</td>\n",
       "      <td>NaN</td>\n",
       "      <td>NaN</td>\n",
       "      <td>NaN</td>\n",
       "    </tr>\n",
       "    <tr>\n",
       "      <th>x3</th>\n",
       "      <td>NaN</td>\n",
       "      <td>NaN</td>\n",
       "      <td>1.132953</td>\n",
       "      <td>NaN</td>\n",
       "    </tr>\n",
       "    <tr>\n",
       "      <th>x4</th>\n",
       "      <td>1.208876</td>\n",
       "      <td>NaN</td>\n",
       "      <td>NaN</td>\n",
       "      <td>1.407733</td>\n",
       "    </tr>\n",
       "    <tr>\n",
       "      <th>x5</th>\n",
       "      <td>NaN</td>\n",
       "      <td>1.130494</td>\n",
       "      <td>NaN</td>\n",
       "      <td>NaN</td>\n",
       "    </tr>\n",
       "    <tr>\n",
       "      <th>x6</th>\n",
       "      <td>1.372714</td>\n",
       "      <td>NaN</td>\n",
       "      <td>0.528556</td>\n",
       "      <td>NaN</td>\n",
       "    </tr>\n",
       "    <tr>\n",
       "      <th>x7</th>\n",
       "      <td>NaN</td>\n",
       "      <td>NaN</td>\n",
       "      <td>NaN</td>\n",
       "      <td>NaN</td>\n",
       "    </tr>\n",
       "    <tr>\n",
       "      <th>x8</th>\n",
       "      <td>NaN</td>\n",
       "      <td>NaN</td>\n",
       "      <td>0.603797</td>\n",
       "      <td>NaN</td>\n",
       "    </tr>\n",
       "    <tr>\n",
       "      <th>x9</th>\n",
       "      <td>1.768448</td>\n",
       "      <td>NaN</td>\n",
       "      <td>NaN</td>\n",
       "      <td>2.015686</td>\n",
       "    </tr>\n",
       "    <tr>\n",
       "      <th>x10</th>\n",
       "      <td>NaN</td>\n",
       "      <td>1.396154</td>\n",
       "      <td>1.136272</td>\n",
       "      <td>1.108358</td>\n",
       "    </tr>\n",
       "  </tbody>\n",
       "</table>\n",
       "</div>"
      ],
      "text/plain": [
       "      points1   points2   points3   points6\n",
       "x1        NaN       NaN       NaN       NaN\n",
       "x2        NaN       NaN       NaN       NaN\n",
       "x3        NaN       NaN  1.132953       NaN\n",
       "x4   1.208876       NaN       NaN  1.407733\n",
       "x5        NaN  1.130494       NaN       NaN\n",
       "x6   1.372714       NaN  0.528556       NaN\n",
       "x7        NaN       NaN       NaN       NaN\n",
       "x8        NaN       NaN  0.603797       NaN\n",
       "x9   1.768448       NaN       NaN  2.015686\n",
       "x10       NaN  1.396154  1.136272  1.108358"
      ]
     },
     "execution_count": 49,
     "metadata": {},
     "output_type": "execute_result"
    }
   ],
   "source": [
    "df[df>0.5]"
   ]
  },
  {
   "cell_type": "code",
   "execution_count": 50,
   "metadata": {},
   "outputs": [
    {
     "data": {
      "text/html": [
       "<div>\n",
       "<style scoped>\n",
       "    .dataframe tbody tr th:only-of-type {\n",
       "        vertical-align: middle;\n",
       "    }\n",
       "\n",
       "    .dataframe tbody tr th {\n",
       "        vertical-align: top;\n",
       "    }\n",
       "\n",
       "    .dataframe thead th {\n",
       "        text-align: right;\n",
       "    }\n",
       "</style>\n",
       "<table border=\"1\" class=\"dataframe\">\n",
       "  <thead>\n",
       "    <tr style=\"text-align: right;\">\n",
       "      <th></th>\n",
       "      <th>points1</th>\n",
       "      <th>points2</th>\n",
       "      <th>points3</th>\n",
       "      <th>points6</th>\n",
       "    </tr>\n",
       "  </thead>\n",
       "  <tbody>\n",
       "    <tr>\n",
       "      <th>x5</th>\n",
       "      <td>-2.097059</td>\n",
       "      <td>1.130494</td>\n",
       "      <td>0.270889</td>\n",
       "      <td>-0.966565</td>\n",
       "    </tr>\n",
       "    <tr>\n",
       "      <th>x10</th>\n",
       "      <td>-0.287796</td>\n",
       "      <td>1.396154</td>\n",
       "      <td>1.136272</td>\n",
       "      <td>1.108358</td>\n",
       "    </tr>\n",
       "  </tbody>\n",
       "</table>\n",
       "</div>"
      ],
      "text/plain": [
       "      points1   points2   points3   points6\n",
       "x5  -2.097059  1.130494  0.270889 -0.966565\n",
       "x10 -0.287796  1.396154  1.136272  1.108358"
      ]
     },
     "execution_count": 50,
     "metadata": {},
     "output_type": "execute_result"
    }
   ],
   "source": [
    "df[df['points2']>0.5]"
   ]
  },
  {
   "cell_type": "code",
   "execution_count": 51,
   "metadata": {},
   "outputs": [
    {
     "data": {
      "text/plain": [
       "x4    0.198858\n",
       "x6   -1.118173\n",
       "x9    0.247238\n",
       "Name: points2, dtype: float64"
      ]
     },
     "execution_count": 51,
     "metadata": {},
     "output_type": "execute_result"
    }
   ],
   "source": [
    "df[df['points1']>0.5]['points2']"
   ]
  },
  {
   "cell_type": "code",
   "execution_count": 52,
   "metadata": {},
   "outputs": [
    {
     "data": {
      "text/html": [
       "<div>\n",
       "<style scoped>\n",
       "    .dataframe tbody tr th:only-of-type {\n",
       "        vertical-align: middle;\n",
       "    }\n",
       "\n",
       "    .dataframe tbody tr th {\n",
       "        vertical-align: top;\n",
       "    }\n",
       "\n",
       "    .dataframe thead th {\n",
       "        text-align: right;\n",
       "    }\n",
       "</style>\n",
       "<table border=\"1\" class=\"dataframe\">\n",
       "  <thead>\n",
       "    <tr style=\"text-align: right;\">\n",
       "      <th></th>\n",
       "      <th>points2</th>\n",
       "      <th>points3</th>\n",
       "    </tr>\n",
       "  </thead>\n",
       "  <tbody>\n",
       "    <tr>\n",
       "      <th>x4</th>\n",
       "      <td>0.198858</td>\n",
       "      <td>-0.198328</td>\n",
       "    </tr>\n",
       "    <tr>\n",
       "      <th>x6</th>\n",
       "      <td>-1.118173</td>\n",
       "      <td>0.528556</td>\n",
       "    </tr>\n",
       "    <tr>\n",
       "      <th>x9</th>\n",
       "      <td>0.247238</td>\n",
       "      <td>-0.513339</td>\n",
       "    </tr>\n",
       "  </tbody>\n",
       "</table>\n",
       "</div>"
      ],
      "text/plain": [
       "     points2   points3\n",
       "x4  0.198858 -0.198328\n",
       "x6 -1.118173  0.528556\n",
       "x9  0.247238 -0.513339"
      ]
     },
     "execution_count": 52,
     "metadata": {},
     "output_type": "execute_result"
    }
   ],
   "source": [
    "df[df['points1']>0.5][['points2','points3']]"
   ]
  },
  {
   "cell_type": "code",
   "execution_count": null,
   "metadata": {},
   "outputs": [],
   "source": [
    "df[(df['points1']>0.5) & (df['points2'] > 0)]"
   ]
  },
  {
   "cell_type": "code",
   "execution_count": null,
   "metadata": {},
   "outputs": [],
   "source": []
  },
  {
   "cell_type": "code",
   "execution_count": null,
   "metadata": {},
   "outputs": [],
   "source": []
  },
  {
   "cell_type": "code",
   "execution_count": null,
   "metadata": {},
   "outputs": [],
   "source": []
  },
  {
   "cell_type": "code",
   "execution_count": null,
   "metadata": {},
   "outputs": [],
   "source": []
  },
  {
   "cell_type": "code",
   "execution_count": null,
   "metadata": {},
   "outputs": [],
   "source": []
  },
  {
   "cell_type": "code",
   "execution_count": null,
   "metadata": {},
   "outputs": [],
   "source": []
  }
 ],
 "metadata": {
  "kernelspec": {
   "display_name": "Python 3",
   "language": "python",
   "name": "python3"
  },
  "language_info": {
   "codemirror_mode": {
    "name": "ipython",
    "version": 3
   },
   "file_extension": ".py",
   "mimetype": "text/x-python",
   "name": "python",
   "nbconvert_exporter": "python",
   "pygments_lexer": "ipython3",
   "version": "3.8.3"
  }
 },
 "nbformat": 4,
 "nbformat_minor": 4
}
